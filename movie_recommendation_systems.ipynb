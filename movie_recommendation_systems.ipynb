{
 "cells": [
  {
   "cell_type": "code",
   "execution_count": null,
   "id": "4da2cea4",
   "metadata": {
    "lines_to_next_cell": 2
   },
   "outputs": [],
   "source": [
    "#import required packages\n",
    "import pandas as pd\n",
    "import statistics as st\n",
    "import scipy\n",
    "import matplotlib.pyplot as plt\n",
    "get_ipython().run_line_magic('matplotlib', 'inline')\n",
    "import seaborn as sns\n",
    "import datetime as dt\n",
    "from sklearn.metrics.pairwise import cosine_similarity\n",
    "import numpy as np"
   ]
  },
  {
   "cell_type": "code",
   "execution_count": null,
   "id": "70298c86",
   "metadata": {},
   "outputs": [],
   "source": [
    "#####import scores dataset from Movielens data \n",
    "data_scores = pd.read_csv('C:\\\\Users\\\\surbhi36152\\\\Downloads\\\\archive\\\\genome_scores.csv')"
   ]
  },
  {
   "cell_type": "code",
   "execution_count": null,
   "id": "be0227b9",
   "metadata": {},
   "outputs": [],
   "source": [
    "###get summaries\n",
    "data_scores.head(10) ###what is relevance?\n",
    "scores_summary=data_scores.describe()\n",
    "len(data_scores['movieId'].unique().tolist())"
   ]
  },
  {
   "cell_type": "code",
   "execution_count": null,
   "id": "267e4677",
   "metadata": {},
   "outputs": [],
   "source": [
    "###search for missing values\n",
    "data_scores.isnull().any()"
   ]
  },
  {
   "cell_type": "code",
   "execution_count": null,
   "id": "3c063322",
   "metadata": {},
   "outputs": [],
   "source": [
    "#####import rating dataset from Movielens data \n",
    "data_rating = pd.read_csv('C:\\\\Users\\\\surbhi36152\\\\Downloads\\\\archive\\\\rating.csv')\n",
    "data_rating.head(10)\n",
    "###get summaries\n",
    "rating_summary=data_rating.describe()#not much poorly rated movie, movies is almost same as no.of users\n",
    "len(data_rating['movieId'].unique().tolist())"
   ]
  },
  {
   "cell_type": "code",
   "execution_count": null,
   "id": "5c0ac838",
   "metadata": {
    "lines_to_next_cell": 2
   },
   "outputs": [],
   "source": [
    "###search for missing values\n",
    "data_rating.isnull().any()"
   ]
  },
  {
   "cell_type": "code",
   "execution_count": null,
   "id": "16003291",
   "metadata": {},
   "outputs": [],
   "source": [
    "##import tags\n",
    "data_tag = pd.read_csv('C:\\\\Users\\\\surbhi36152\\\\Downloads\\\\archive\\\\tag.csv')\n",
    "len(data_tag['movieId'].unique().tolist())\n",
    "data_tag.isnull().any()###nulll in tag\n",
    "data_tag['tag'].isna().sum()\n",
    "data_tag['tag'].value_counts().shape"
   ]
  },
  {
   "cell_type": "code",
   "execution_count": null,
   "id": "e02f2368",
   "metadata": {
    "lines_to_next_cell": 2
   },
   "outputs": [],
   "source": [
    "##remove null tags\n",
    "data_tag=data_tag.dropna()\n",
    "data_tag['tag'].isna().sum()"
   ]
  },
  {
   "cell_type": "code",
   "execution_count": null,
   "id": "bb7dee0f",
   "metadata": {
    "lines_to_next_cell": 2
   },
   "outputs": [],
   "source": [
    "##import movies, titles\n",
    "data_movie = pd.read_csv('C:\\\\Users\\\\surbhi36152\\\\Downloads\\\\archive\\\\movie.csv')\n",
    "data_movie.head()\n",
    "len(data_movie['movieId'].unique().tolist())\n",
    "data_movie.isnull().any()"
   ]
  },
  {
   "cell_type": "code",
   "execution_count": null,
   "id": "3551ddb0",
   "metadata": {},
   "outputs": [],
   "source": [
    "###import imdbids ---not relevant data\n",
    "data_link = pd.read_csv('C:\\\\Users\\\\surbhi36152\\\\Downloads\\\\archive\\\\link.csv')\n",
    "len(data_link['movieId'].unique().tolist())\n",
    "data_link.isnull().any()###nulll in tmdbId\n",
    "data_link['tmdbId'].isna().sum()  ##no need of removal, this id not relevant"
   ]
  },
  {
   "cell_type": "code",
   "execution_count": null,
   "id": "89013f05",
   "metadata": {},
   "outputs": [],
   "source": [
    "data_genome_tags = pd.read_csv('C:\\\\Users\\\\surbhi36152\\\\Downloads\\\\archive\\\\genome_tags.csv')\n",
    "data_genome_tags.isnull().any()###nulll in tmdbId"
   ]
  },
  {
   "cell_type": "code",
   "execution_count": null,
   "id": "0f7a93da",
   "metadata": {},
   "outputs": [],
   "source": [
    "##combine tagged datasets and find relevant tags like top 250 imdb and oscar \n",
    "data_tag_name=data_scores.merge(data_genome_tags,on=['tagId'],how='inner') ##not useful (only imdbID)\n",
    "data_tag_name=data_tag_name.merge(data_movie,on=['movieId'],how='inner')\n",
    "store=data_tag_name[(data_tag_name['tag']=='imdb top 250') & (data_tag_name['relevance']>0.9)].sort_values(by='relevance',ascending=False)"
   ]
  },
  {
   "cell_type": "code",
   "execution_count": null,
   "id": "c40e1ffc",
   "metadata": {},
   "outputs": [],
   "source": [
    "data_tag_name[(data_tag_name['tag']=='oscar') & (data_tag_name['relevance']>0.9)].sort_values(by='relevance',ascending=False)"
   ]
  },
  {
   "cell_type": "code",
   "execution_count": null,
   "id": "18dd3413",
   "metadata": {},
   "outputs": [],
   "source": [
    "most_tagged= pd.DataFrame(data_tag_name.groupby('tag').size().sort_values(ascending=False)).reset_index()"
   ]
  },
  {
   "cell_type": "code",
   "execution_count": null,
   "id": "93c4c419",
   "metadata": {},
   "outputs": [],
   "source": [
    "####merge imdbid with movie title\n",
    "data_movie_link_new=data_movie.merge(data_link,on=['movieId']) ##not useful (only imdbID)"
   ]
  },
  {
   "cell_type": "code",
   "execution_count": null,
   "id": "02dbddd9",
   "metadata": {},
   "outputs": [],
   "source": [
    "###merge movie with user ratings\n",
    "data_rating_genre = data_rating.merge(data_movie,on='movieId', how='left')\n",
    "data_rating_genre.columns"
   ]
  },
  {
   "cell_type": "code",
   "execution_count": null,
   "id": "53b20198",
   "metadata": {},
   "outputs": [],
   "source": [
    "###check for nulls\n",
    "data_rating_genre.isnull().any()"
   ]
  },
  {
   "cell_type": "code",
   "execution_count": null,
   "id": "60aa3a4c",
   "metadata": {},
   "outputs": [],
   "source": [
    "##get year out of title  ###very slow, can make faster\n",
    "data_rating_genre['year'] =data_rating_genre['title'].str.extract('.*\\((.*)\\).*',expand = False)\n",
    "data_rating_genre.iloc[:,3:].head(5)"
   ]
  },
  {
   "cell_type": "markdown",
   "id": "74e7728c",
   "metadata": {
    "lines_to_next_cell": 2
   },
   "source": [
    "#######recent released movies"
   ]
  },
  {
   "cell_type": "code",
   "execution_count": null,
   "id": "0119bd9b",
   "metadata": {},
   "outputs": [],
   "source": [
    "###########most viewed movies#############s\n",
    "most_rated = pd.DataFrame(data_rating_genre.groupby('title').size().sort_values(ascending=False)).reset_index()\n",
    "most_rated.columns=['title','Total Ratings']\n",
    "most_rated.sum()"
   ]
  },
  {
   "cell_type": "code",
   "execution_count": null,
   "id": "dfb03385",
   "metadata": {},
   "outputs": [],
   "source": [
    "plt.figure(figsize = (20,10))\n",
    "plt.ylabel(\"Total Ratings\", fontsize = 12, labelpad = 0)\n",
    "plt.xticks(rotation=60)\n",
    "plt.title('Most rated movies in Imdb Top 250', fontsize=18)\n",
    "ax = sns.barplot(x = 'title', y = 'Total Ratings', data = most_rated.iloc[1:10,:],  linewidth = 1.5, edgecolor = 'black')\n",
    "plt.show()\n",
    "\n",
    "\n",
    " ###get top rated movies with minimum of 500 ratings\n",
    "relevant_movies=most_rated[most_rated['Total Ratings']>500]['title']\n",
    "Average_ratings= pd.DataFrame(data_rating_genre[data_rating_genre['title'].isin(list(relevant_movies))].groupby('title')['rating'].mean().sort_values(ascending=False)).reset_index()\n",
    "Average_ratings.head(10)\n",
    "Average_ratings.columns=['title','Average_ratings']"
   ]
  },
  {
   "cell_type": "code",
   "execution_count": null,
   "id": "3d441cce",
   "metadata": {
    "lines_to_next_cell": 2
   },
   "outputs": [],
   "source": [
    "title_avg_rating_no_users = most_rated.merge(Average_ratings,on='title', how='inner')\n",
    "weight_avg=pd.DataFrame(title_avg_rating_no_users.sort_values(by=['Total Ratings'],ascending=[False])).reset_index()"
   ]
  },
  {
   "cell_type": "code",
   "execution_count": null,
   "id": "7a88ee01",
   "metadata": {},
   "outputs": [],
   "source": [
    "##plot avg ratings\n",
    "plt.figure(figsize =(10, 4)) \n",
    "plt.ylabel('No. of movies', fontsize = 12) \n",
    "plt.xlabel('Avg Rating', fontsize = 12)  \n",
    "title_avg_rating_no_users['Average_ratings'].hist(bins = 70)"
   ]
  },
  {
   "cell_type": "code",
   "execution_count": null,
   "id": "fe1a27d7",
   "metadata": {
    "lines_to_next_cell": 2
   },
   "outputs": [],
   "source": [
    "##plot total ratings\n",
    "plt.figure(figsize =(10, 4)) \n",
    "plt.ylabel('No. of movies', fontsize = 12) \n",
    "plt.xlabel('Total Ratings', fontsize = 12)  \n",
    "title_avg_rating_no_users['Total Ratings'].hist(bins = 70)"
   ]
  },
  {
   "cell_type": "markdown",
   "id": "cb43c9e3",
   "metadata": {},
   "source": [
    "#######Popularity of genre ######################"
   ]
  },
  {
   "cell_type": "code",
   "execution_count": null,
   "id": "8479f7a6",
   "metadata": {},
   "outputs": [],
   "source": [
    "movies['(no genres listed)'].sum()\n",
    "movies.columns\n",
    "movies[movies['(no genres listed)']==1].iloc[:,1:4].head(1)"
   ]
  },
  {
   "cell_type": "code",
   "execution_count": null,
   "id": "5cf58af7",
   "metadata": {
    "lines_to_next_cell": 2
   },
   "outputs": [],
   "source": [
    "genre_freq=movies.iloc[:,3:].sum(axis=0).sort_values(ascending=False) \n",
    "genre_freq=pd.DataFrame(genre_freq).reset_index()\n",
    "genre_freq.columns=['Genre','No of occurences']"
   ]
  },
  {
   "cell_type": "code",
   "execution_count": null,
   "id": "d3ea4b72",
   "metadata": {},
   "outputs": [],
   "source": [
    "plt.figure(figsize = (20,10))\n",
    "plt.ylabel(\"No. of occurences\", fontsize = 12, labelpad = 0)\n",
    "ax = sns.barplot(x = 'Genre', y = 'No of occurences', data = genre_freq,  linewidth = 1.5, edgecolor = 'black')\n",
    "plt.show()"
   ]
  },
  {
   "cell_type": "code",
   "execution_count": null,
   "id": "67d0ad59",
   "metadata": {},
   "outputs": [],
   "source": []
  },
  {
   "cell_type": "markdown",
   "id": "f698cf80",
   "metadata": {},
   "source": [
    "#########FIRST METHOD#############################"
   ]
  },
  {
   "cell_type": "code",
   "execution_count": null,
   "id": "632f599d",
   "metadata": {},
   "outputs": [],
   "source": [
    "##correl based on similar set of genres with highest ratings, simple recommendation\n",
    "###filter data as 20Mn not able to process\n",
    "data_rating_genre_filtered= data_rating_genre.iloc[:1000000,:]"
   ]
  },
  {
   "cell_type": "code",
   "execution_count": null,
   "id": "e9875b62",
   "metadata": {},
   "outputs": [],
   "source": [
    "##transform to get movies in columns\n",
    "movie_rater = data_rating_genre_filtered.pivot_table(index='userId',columns='title',values='rating')\n",
    "movie_rater.head()\n",
    "movie_rater=movie_rater.fillna(0)"
   ]
  },
  {
   "cell_type": "code",
   "execution_count": null,
   "id": "42e523e4",
   "metadata": {},
   "outputs": [],
   "source": [
    "###get correlation from corrwith(pearson) takes times\n",
    "correlations = movie_rater.corrwith(movie_rater['Toy Story (1995)'])\n",
    "correlations.head()"
   ]
  },
  {
   "cell_type": "code",
   "execution_count": null,
   "id": "4909b2f0",
   "metadata": {},
   "outputs": [],
   "source": [
    "recommendation = pd.DataFrame(correlations,columns=['Correlation']).reset_index()\n",
    "recommendation.dropna(inplace=True)\n",
    "recommendation = recommendation.join(most_rated['Total Ratings'])"
   ]
  },
  {
   "cell_type": "code",
   "execution_count": null,
   "id": "a663bf2a",
   "metadata": {},
   "outputs": [],
   "source": [
    "recommendation.head()"
   ]
  },
  {
   "cell_type": "code",
   "execution_count": null,
   "id": "ae8c53a0",
   "metadata": {
    "lines_to_next_cell": 2
   },
   "outputs": [],
   "source": [
    "recc = recommendation[recommendation['Total Ratings']>500].sort_values('Correlation',ascending=False).reset_index()\n",
    "recc = recc.merge(data_movie,on='title', how='left').sort_values(by=['Correlation', 'Total Ratings'],ascending=[False, False])\n",
    "#recc.sort_values(by=['Correlation', 'Total Ratings'],ascending=[False, False]).head(10)"
   ]
  },
  {
   "cell_type": "markdown",
   "id": "1ea4ac65",
   "metadata": {},
   "source": [
    "###limitations, even if anyone genre matches for example "
   ]
  },
  {
   "cell_type": "markdown",
   "id": "784d9c5c",
   "metadata": {},
   "source": [
    "#Method 2"
   ]
  },
  {
   "cell_type": "markdown",
   "id": "51aa4d08",
   "metadata": {},
   "source": [
    "#############content based filtering#####################"
   ]
  },
  {
   "cell_type": "markdown",
   "id": "3de431ae",
   "metadata": {},
   "source": [
    "###genre based on genre movie neighbourhood based on cosine distance##########"
   ]
  },
  {
   "cell_type": "code",
   "execution_count": null,
   "id": "357fff23",
   "metadata": {},
   "outputs": [],
   "source": [
    "movies = data_movie.join(data_movie.genres.str.get_dummies(\"|\"))"
   ]
  },
  {
   "cell_type": "code",
   "execution_count": null,
   "id": "a599a5ca",
   "metadata": {
    "lines_to_next_cell": 2
   },
   "outputs": [],
   "source": [
    "# compute the cosine similarity \n",
    "cos_sim = cosine_similarity(movies.iloc[:,3:])"
   ]
  },
  {
   "cell_type": "code",
   "execution_count": null,
   "id": "bb23ceee",
   "metadata": {},
   "outputs": [],
   "source": [
    "sabrina_top5 = np.argsort(cos_sim [6])[-5:][::-1]\n",
    "movies[movies.index.isin(sabrina_top5)]['genres']"
   ]
  },
  {
   "cell_type": "markdown",
   "id": "5eac6b22",
   "metadata": {},
   "source": [
    "#limitations : doesn't cater to user tailored suggestions by incorporating ratings"
   ]
  },
  {
   "cell_type": "markdown",
   "id": "92e69315",
   "metadata": {},
   "source": [
    "Method 3"
   ]
  },
  {
   "cell_type": "markdown",
   "id": "f0d5fd55",
   "metadata": {},
   "source": [
    "############collaborative filtering################"
   ]
  },
  {
   "cell_type": "markdown",
   "id": "6f83aca4",
   "metadata": {},
   "source": [
    "##user preferance based filtering#######"
   ]
  },
  {
   "cell_type": "code",
   "execution_count": null,
   "id": "98a257ae",
   "metadata": {},
   "outputs": [],
   "source": [
    "avg_rating = data_rating['rating'].mean() # calculate mean rating"
   ]
  },
  {
   "cell_type": "code",
   "execution_count": null,
   "id": "74ad5158",
   "metadata": {},
   "outputs": [],
   "source": [
    "data_rating_filtered= data_rating.iloc[:1000000,:]\n",
    "preferance_matrix = data_rating_filtered[['userId', 'movieId', 'rating']].pivot(index='userId', columns='movieId', values='rating')"
   ]
  },
  {
   "cell_type": "code",
   "execution_count": null,
   "id": "2e4d3f14",
   "metadata": {},
   "outputs": [],
   "source": [
    "preferance_matrix = preferance_matrix - avg_rating # subtract avg rating i.e. adjust ratings"
   ]
  },
  {
   "cell_type": "code",
   "execution_count": null,
   "id": "b7fa57a1",
   "metadata": {},
   "outputs": [],
   "source": [
    "item_avg_rating = preferance_matrix.mean(axis=0)  ###get column avg\n",
    "preferance_matrix = preferance_matrix - item_avg_rating # item avg made adjustment"
   ]
  },
  {
   "cell_type": "code",
   "execution_count": null,
   "id": "c728a67a",
   "metadata": {},
   "outputs": [],
   "source": [
    "user_avg_rating = preferance_matrix.mean(axis=1)  ##get row avg\n",
    "preferance_matrix = preferance_matrix - user_avg_rating# item avg made adjustment"
   ]
  },
  {
   "cell_type": "code",
   "execution_count": null,
   "id": "788c6f16",
   "metadata": {},
   "outputs": [],
   "source": [
    "mat_avg=preferance_matrix.fillna(0) + user_avg_rating + item_avg_rating + avg_rating"
   ]
  },
  {
   "cell_type": "code",
   "execution_count": null,
   "id": "c5c351ef",
   "metadata": {},
   "outputs": [],
   "source": [
    "mat_avg = preferance_matrix.values"
   ]
  },
  {
   "cell_type": "code",
   "execution_count": null,
   "id": "89170b72",
   "metadata": {},
   "outputs": [],
   "source": [
    "##for user 1\n",
    "np.nansum((mat_avg - mat_avg[700,:])**2,axis=1)[1:].argmin() # returns 99\n",
    "# check it:\n",
    "arr=np.nansum(mat_avg[4] - mat_avg[700]) # returns 0.0"
   ]
  },
  {
   "cell_type": "code",
   "execution_count": null,
   "id": "a9c30237",
   "metadata": {},
   "outputs": [],
   "source": [
    "np.where(~np.isnan(mat_avg[4]) & np.isnan(mat_avg[700]) == True)\n",
    "mat_avg[4][[1,   10,   16]]##11th movie recommended"
   ]
  },
  {
   "cell_type": "code",
   "execution_count": null,
   "id": "25462646",
   "metadata": {
    "lines_to_next_cell": 2
   },
   "outputs": [],
   "source": []
  }
 ],
 "metadata": {
  "jupytext": {
   "cell_metadata_filter": "-all",
   "formats": "ipynb,py:light",
   "main_language": "python"
  },
  "kernelspec": {
   "display_name": "Python 3 (ipykernel)",
   "language": "python",
   "name": "python3"
  },
  "language_info": {
   "codemirror_mode": {
    "name": "ipython",
    "version": 3
   },
   "file_extension": ".py",
   "mimetype": "text/x-python",
   "name": "python",
   "nbconvert_exporter": "python",
   "pygments_lexer": "ipython3",
   "version": "3.8.11"
  }
 },
 "nbformat": 4,
 "nbformat_minor": 5
}
